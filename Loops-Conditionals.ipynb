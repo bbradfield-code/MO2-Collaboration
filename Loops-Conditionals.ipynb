{
 "cells": [
  {
   "cell_type": "code",
   "execution_count": null,
   "id": "10a6065e-13ef-4934-80f3-57e0a94c439a",
   "metadata": {},
   "outputs": [],
   "source": [
    "#Ch.4 4.1 & 4.2, Ch.6 6.1, 6.2, 6.3"
   ]
  },
  {
   "cell_type": "code",
   "execution_count": 12,
   "id": "1544a55d-4d48-4a57-b9db-1b5aa46c0bbf",
   "metadata": {},
   "outputs": [
    {
     "name": "stdout",
     "output_type": "stream",
     "text": [
      "too low\n"
     ]
    }
   ],
   "source": [
    "#4.1, if, else statements\n",
    "\n",
    "# Assigning numbers to variables\n",
    "secret = 7\n",
    "guess = 5\n",
    "\n",
    "# Conditional tests\n",
    "if guess < secret:\n",
    "    print(\"too low\")\n",
    "elif guess > secret:\n",
    "    print(\"too high\")\n",
    "else:\n",
    "    print(\"just right\")\n"
   ]
  },
  {
   "cell_type": "code",
   "execution_count": 10,
   "id": "e9cfe5da-c6bb-43ae-9475-6aed98c29440",
   "metadata": {},
   "outputs": [
    {
     "name": "stdout",
     "output_type": "stream",
     "text": [
      "cherry\n"
     ]
    }
   ],
   "source": [
    "#4.2\n",
    "\n",
    "# Assigning values to variables\n",
    "small = True\n",
    "green = False\n",
    "\n",
    "# Conditional tests\n",
    "if small and green:\n",
    "    print(\"pea\")\n",
    "elif small and not green:\n",
    "    print(\"cherry\")\n",
    "elif not small and green:\n",
    "    print(\"watermelon\")\n",
    "else:\n",
    "    print(\"pumpkin\")\n"
   ]
  },
  {
   "cell_type": "code",
   "execution_count": null,
   "id": "4a465d8b-a711-4e1b-9c21-a20f2bec12d6",
   "metadata": {},
   "outputs": [],
   "source": [
    "#Ch. 6"
   ]
  },
  {
   "cell_type": "code",
   "execution_count": 8,
   "id": "8361a83c-d711-47b5-a022-a9c2ad0f5ce2",
   "metadata": {},
   "outputs": [
    {
     "name": "stdout",
     "output_type": "stream",
     "text": [
      "3\n",
      "2\n",
      "1\n",
      "0\n"
     ]
    }
   ],
   "source": [
    "#6.1 Use a for loop to print the values of the list [3,2,1,0]\n",
    "\n",
    "for x in range(3,-1,-1):\n",
    "    print(x)"
   ]
  },
  {
   "cell_type": "code",
   "execution_count": 6,
   "id": "a6aa4687-16ea-4c8b-9cb6-f2382c24ca51",
   "metadata": {},
   "outputs": [
    {
     "name": "stdout",
     "output_type": "stream",
     "text": [
      "too low\n",
      "too low\n",
      "too low\n",
      "too low\n",
      "too low\n",
      "too low\n",
      "found it!\n"
     ]
    }
   ],
   "source": [
    "# 6.2 Assign the value 7 to the variable 'guess_me'\n",
    "\n",
    "guess_me = 7\n",
    "\n",
    "number = 1\n",
    "\n",
    "while True: \n",
    "    if number < guess_me:\n",
    "        print('too low')\n",
    "    elif number == guess_me:\n",
    "        print('found it!')\n",
    "        break\n",
    "    else:\n",
    "        print('oops')\n",
    "        break\n",
    "    number +=1"
   ]
  },
  {
   "cell_type": "code",
   "execution_count": 4,
   "id": "1651fab4-6ee0-4ad5-b9d6-b8a1f7524bcc",
   "metadata": {},
   "outputs": [
    {
     "name": "stdout",
     "output_type": "stream",
     "text": [
      "too low\n",
      "too low\n",
      "too low\n",
      "too low\n",
      "too low\n",
      "found it\n"
     ]
    }
   ],
   "source": [
    "# 6.3 Assign the value 5 to the variable guess_me\n",
    "\n",
    "guess_me = 5\n",
    "\n",
    "for n in range(10):\n",
    "    if n < guess_me:\n",
    "        print('too low')\n",
    "    elif n == guess_me:\n",
    "        print('found it')\n",
    "        break\n",
    "    else:\n",
    "        print('oops')\n",
    "        break"
   ]
  }
 ],
 "metadata": {
  "kernelspec": {
   "display_name": "Python 3 (ipykernel)",
   "language": "python",
   "name": "python3"
  },
  "language_info": {
   "codemirror_mode": {
    "name": "ipython",
    "version": 3
   },
   "file_extension": ".py",
   "mimetype": "text/x-python",
   "name": "python",
   "nbconvert_exporter": "python",
   "pygments_lexer": "ipython3",
   "version": "3.11.7"
  }
 },
 "nbformat": 4,
 "nbformat_minor": 5
}
